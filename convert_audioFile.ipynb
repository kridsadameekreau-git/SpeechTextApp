{
 "cells": [
  {
   "cell_type": "code",
   "execution_count": null,
   "metadata": {},
   "outputs": [],
   "source": [
    "import subprocess\n",
    "\n",
    "ffmpeg_path = r\"R:\\+++++พี่โจ++++\\ประเมินผลงานทีมFraud\\Y2024\\Bever\\voice\\ffmpeg-master-latest-win64-gpl\\ffmpeg-master-latest-win64-gpl\\bin\\ffmpeg.exe\"\n",
    "input_file = r'D:\\Users\\11362381\\Desktop\\Siam Privi Hotel.m4a'\n",
    "output_file = r'D:\\Users\\11362381\\Desktop\\Siam Privi Hotel.wav'\n",
    "\n",
    "try:\n",
    "    command = [\n",
    "        ffmpeg_path,\n",
    "        \"-i\", input_file,\n",
    "        \"-ac\", \"1\",  # Ensure audio is mono\n",
    "        \"-ar\", \"16000\",  # Set sample rate to 16kHz for better transcription accuracy\n",
    "        output_file\n",
    "    ]\n",
    "    \n",
    "    result = subprocess.run(command, capture_output=True, text=True, check=True, encoding='utf-8')\n",
    "    print(f\"Successfully converted {input_file} to {output_file}\")\n",
    "except FileNotFoundError:\n",
    "    print(f\"FFmpeg not found at: {ffmpeg_path}\")\n",
    "except subprocess.CalledProcessError as e:\n",
    "    print(f\"An error occurred during conversion: {e}\")\n",
    "    print(\"Error output:\")\n",
    "    print(e.stderr)"
   ]
  }
 ],
 "metadata": {
  "kernelspec": {
   "display_name": "Python 3",
   "language": "python",
   "name": "python3"
  },
  "language_info": {
   "codemirror_mode": {
    "name": "ipython",
    "version": 3
   },
   "file_extension": ".py",
   "mimetype": "text/x-python",
   "name": "python",
   "nbconvert_exporter": "python",
   "pygments_lexer": "ipython3",
   "version": "3.11.4"
  }
 },
 "nbformat": 4,
 "nbformat_minor": 2
}
